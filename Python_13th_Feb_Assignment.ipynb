{
 "cells": [
  {
   "cell_type": "markdown",
   "id": "8382671a-da0a-414f-ab7c-155158baa476",
   "metadata": {
    "tags": []
   },
   "source": [
    "Q1. Explain why we have to use the Exception class while creating a Custom Exception.\n",
    "Note: Here Exception class refers to the base class for all the exceptions."
   ]
  },
  {
   "cell_type": "markdown",
   "id": "af8bc2c1-3b53-464c-b3c7-e0378c4ecbe0",
   "metadata": {},
   "source": [
    "When creating a custom exception in Python, we have to use the Exception class (or any of its subclasses) as the base class for our custom exception. The reason for this is that the Exception class provides a set of methods and attributes that are used by the Python interpreter to handle exceptions."
   ]
  },
  {
   "cell_type": "markdown",
   "id": "b0af7472-28dd-4443-b1ae-e5f8df6d3320",
   "metadata": {},
   "source": [
    "By subclassing the Exception class, we can customize these methods and attributes to create more meaningful and specific exceptions for our code."
   ]
  },
  {
   "cell_type": "markdown",
   "id": "61f32499-a5b9-45de-a364-85864d93af69",
   "metadata": {},
   "source": [
    "Q2. Write a python program to print Python Exception Hierarchy."
   ]
  },
  {
   "cell_type": "code",
   "execution_count": 1,
   "id": "55da8786-7011-4cfe-bd27-98ca225d8d87",
   "metadata": {},
   "outputs": [
    {
     "name": "stdout",
     "output_type": "stream",
     "text": [
      "BaseException: Common base class for all exceptions\n",
      "  Exception: Common base class for all non-exit exceptions.\n",
      "    TypeError: Inappropriate argument type.\n",
      "    StopAsyncIteration: Signal the end from iterator.__anext__().\n",
      "    StopIteration: Signal the end from iterator.__next__().\n",
      "    ImportError: Import can't find module, or can't find name in module.\n",
      "    OSError: Base class for I/O related errors.\n",
      "    EOFError: Read beyond end of file.\n",
      "    RuntimeError: Unspecified run-time error.\n",
      "    NameError: Name not found globally.\n",
      "    AttributeError: Attribute not found.\n",
      "    SyntaxError: Invalid syntax.\n",
      "    LookupError: Base class for lookup errors.\n",
      "    ValueError: Inappropriate argument value (of correct type).\n",
      "    AssertionError: Assertion failed.\n",
      "    ArithmeticError: Base class for arithmetic errors.\n",
      "    SystemError: Internal error in the Python interpreter.\n",
      "\n",
      "Please report this to the Python maintainer, along with the traceback,\n",
      "the Python version, and the hardware/OS platform and version.\n",
      "    ReferenceError: Weak ref proxy used after referent went away.\n",
      "    MemoryError: Out of memory.\n",
      "    BufferError: Buffer error.\n",
      "    Warning: Base class for warning categories.\n",
      "    Error: None\n",
      "    _OptionError: Exception used by option processing helpers.\n",
      "    error: Exception raised for invalid regular expressions.\n",
      "\n",
      "    Attributes:\n",
      "\n",
      "        msg: The unformatted error message\n",
      "        pattern: The regular expression pattern\n",
      "        pos: The index in the pattern where compilation failed (may be None)\n",
      "        lineno: The line corresponding to pos (may be None)\n",
      "        colno: The column corresponding to pos (may be None)\n",
      "    \n",
      "    Verbose: None\n",
      "    _Error: Error that _run_module_as_main() should report without a traceback\n",
      "    SubprocessError: None\n",
      "    TokenError: None\n",
      "    StopTokenizing: None\n",
      "    ClassFoundException: None\n",
      "    EndOfBlock: None\n",
      "    TraitError: None\n",
      "    Error: None\n",
      "    Error: Base class for all future-related exceptions.\n",
      "    _GiveupOnSendfile: None\n",
      "    error: None\n",
      "    Incomplete: None\n",
      "    TimeoutError: The operation exceeded the given deadline.\n",
      "    InvalidStateError: The operation is not allowed in this state.\n",
      "    LimitOverrunError: Reached the buffer limit while looking for a separator.\n",
      "\n",
      "    Attributes:\n",
      "    - consumed: total number of to be consumed bytes.\n",
      "    \n",
      "    QueueEmpty: Raised when Queue.get_nowait() is called on an empty Queue.\n",
      "    QueueFull: Raised when the Queue.put_nowait() method is called on a full Queue.\n",
      "    error: None\n",
      "    LZMAError: Call to liblzma failed.\n",
      "    RegistryError: Raised when a registry operation with the archiving\n",
      "    and unpacking registries fails\n",
      "    _GiveupOnFastCopy: Raised as a signal to fallback on using raw read()/write()\n",
      "    file copy when fast-copy functions fail to do so.\n",
      "    \n",
      "    Empty: Exception raised by Queue.get(block=0)/get_nowait().\n",
      "    Full: Exception raised by Queue.put(block=0)/put_nowait().\n",
      "    ZMQBaseError: Base exception class for 0MQ errors in Python.\n",
      "    PickleError: None\n",
      "    _Stop: None\n",
      "    ArgumentError: An error from creating or using an argument (optional or positional).\n",
      "\n",
      "    The string value of this exception is the message, augmented with\n",
      "    information about the argument that caused it.\n",
      "    \n",
      "    ArgumentTypeError: An error from trying to convert a command line string to a type.\n",
      "    ConfigError: None\n",
      "    ConfigurableError: None\n",
      "    ApplicationError: None\n",
      "    TimeoutError: Exception raised by `.with_timeout` and `.IOLoop.run_sync`.\n",
      "\n",
      "    .. versionchanged:: 5.0:\n",
      "       Unified ``tornado.gen.TimeoutError`` and\n",
      "       ``tornado.ioloop.TimeoutError`` as ``tornado.util.TimeoutError``.\n",
      "       Both former names remain as aliases.\n",
      "    \n",
      "    COMError: Raised when a COM method call failed.\n",
      "    ArgumentError: None\n",
      "    ReturnValueIgnoredError: None\n",
      "    KeyReuseError: None\n",
      "    UnknownKeyError: None\n",
      "    LeakedCallbackError: None\n",
      "    BadYieldError: None\n",
      "    ReturnValueIgnoredError: None\n",
      "    Return: Special exception to return a value from a `coroutine`.\n",
      "\n",
      "    If this exception is raised, its value argument is used as the\n",
      "    result of the coroutine::\n",
      "\n",
      "        @gen.coroutine\n",
      "        def fetch_json(url):\n",
      "            response = yield AsyncHTTPClient().fetch(url)\n",
      "            raise gen.Return(json_decode(response.body))\n",
      "\n",
      "    In Python 3.3, this exception is no longer necessary: the ``return``\n",
      "    statement can be used directly to return a value (previously\n",
      "    ``yield`` and ``return`` with a value could not be combined in the\n",
      "    same function).\n",
      "\n",
      "    By analogy with the return statement, the value argument is optional,\n",
      "    but it is never necessary to ``raise gen.Return()``.  The ``return``\n",
      "    statement can be used with no arguments instead.\n",
      "    \n",
      "    InvalidPortNumber: None\n",
      "    NoIPAddresses: None\n",
      "    BadZipFile: None\n",
      "    LargeZipFile: \n",
      "    Raised when writing a zipfile, the zipfile requires ZIP64 extensions\n",
      "    and those extensions are disabled.\n",
      "    \n",
      "    Error: Base class for ConfigParser exceptions.\n",
      "    BadEntryPoint: Raised when an entry point can't be parsed.\n",
      "    \n",
      "    NoSuchEntryPoint: Raised by :func:`get_single` when no matching entry point is found.\n",
      "    DuplicateKernelError: None\n",
      "    ErrorDuringImport: Errors that occurred while trying to import something to document it.\n",
      "    BdbQuit: Exception to give up completely.\n",
      "    Restart: Causes a debugger to be restarted for the debugged python program.\n",
      "    FindCmdError: None\n",
      "    HomeDirError: None\n",
      "    ProfileDirError: None\n",
      "    IPythonCoreError: None\n",
      "    InputRejected: Input rejected by ast transformer.\n",
      "\n",
      "    Raise this in your NodeTransformer to indicate that InteractiveShell should\n",
      "    not execute the supplied input.\n",
      "    \n",
      "    GetoptError: None\n",
      "    OptionError: None\n",
      "    ErrorToken: None\n",
      "    PrefilterError: None\n",
      "    AliasError: None\n",
      "    Error: None\n",
      "    Warning: None\n",
      "    SpaceInInput: None\n",
      "    DOMException: Abstract base class for DOM exceptions.\n",
      "    Exceptions with specific codes are specializations of this class.\n",
      "    ValidationError: \n",
      "    Error raised by :meth:`.Validator.validate`.\n",
      "\n",
      "    :param cursor_position: The cursor position where the error occurred.\n",
      "    :param message: Text.\n",
      "    \n",
      "    EditReadOnlyBuffer: Attempt editing of read-only :class:`.Buffer`.\n",
      "    _Retry: Retry in `_only_one_at_a_time`.\n",
      "    InvalidLayoutError: None\n",
      "    HeightIsUnknownError: Information unavailable. Did not yet receive the CPR response.\n",
      "    ParserSyntaxError: \n",
      "    Contains error information about the parser tree.\n",
      "\n",
      "    May be raised as an exception.\n",
      "    \n",
      "    InternalParseError: \n",
      "    Exception to signal the parser is stuck and error recovery didn't help.\n",
      "    Basically this shouldn't happen. It's a sign that something is really\n",
      "    wrong.\n",
      "    \n",
      "    _PositionUpdatingFinished: None\n",
      "    SimpleGetItemNotFound: None\n",
      "    UncaughtAttributeError: \n",
      "    Important, because `__getattr__` and `hasattr` catch AttributeErrors\n",
      "    implicitly. This is really evil (mainly because of `__getattr__`).\n",
      "    Therefore this class originally had to be derived from `BaseException`\n",
      "    instead of `Exception`.  But because I removed relevant `hasattr` from\n",
      "    the code base, we can now switch back to `Exception`.\n",
      "\n",
      "    :param base: return values of sys.exc_info().\n",
      "    \n",
      "    HasNoContext: None\n",
      "    ParamIssue: None\n",
      "    _JediError: None\n",
      "    OnErrorLeaf: None\n",
      "    InvalidPythonEnvironment: \n",
      "    If you see this exception, the Python executable or Virtualenv you have\n",
      "    been trying to use is probably not a correct Python version.\n",
      "    \n",
      "    MessageError: Base class for errors in the email package.\n",
      "    Error: None\n",
      "    HTTPException: None\n",
      "    InteractivelyDefined: Exception for interactively defined variable in magic_edit\n",
      "    KillEmbedded: None\n",
      "    Error: Base exception class. All other psutil exceptions inherit\n",
      "    from this one.\n",
      "    \n",
      "    Error: None\n",
      "    TimeoutExpired: None\n",
      "    TimeoutAbandoned: None\n",
      "    QueueEmpty: Raised by `.Queue.get_nowait` when the queue has no items.\n",
      "    QueueFull: Raised by `.Queue.put_nowait` when a queue is at its maximum size.\n",
      "    ExpatError: None\n",
      "    Error: Base class for client errors.\n",
      "    error: None\n",
      "    com_error: None\n",
      "    internal_error: None\n",
      "    ParseBaseException: base exception class for all parsing runtime exceptions\n",
      "    RecursiveGrammarException: \n",
      "    Exception thrown by :class:`ParserElement.validate` if the\n",
      "    grammar could be left-recursive; parser may need to enable\n",
      "    left recursion using :class:`ParserElement.enable_left_recursion<ParserElement.enable_left_recursion>`\n",
      "    \n",
      "    ResolutionError: Abstract base for dependency resolution errors\n",
      "    UnableToResolveVariableException: None\n",
      "    InvalidTypeInArgsException: None\n",
      "  GeneratorExit: Request that a generator exit.\n",
      "  SystemExit: Request to exit from the interpreter.\n",
      "  KeyboardInterrupt: Program interrupted by user.\n",
      "  CancelledError: The Future or Task was cancelled.\n",
      "  DebuggerInitializationError: None\n",
      "  AbortThread: None\n"
     ]
    }
   ],
   "source": [
    "# Get the base Exception class\n",
    "base_exc = BaseException\n",
    "\n",
    "# Print the name and docstring of the base Exception class\n",
    "print(f\"{base_exc.__name__}: {base_exc.__doc__}\")\n",
    "\n",
    "# Print the hierarchy of exceptions\n",
    "for exc in base_exc.__subclasses__():\n",
    "    print(f\"  {exc.__name__}: {exc.__doc__}\")\n",
    "    for subexc in exc.__subclasses__():\n",
    "        print(f\"    {subexc.__name__}: {subexc.__doc__}\")\n"
   ]
  },
  {
   "cell_type": "markdown",
   "id": "d93840b0-747b-45ef-a4c6-ca154150c17c",
   "metadata": {
    "tags": []
   },
   "source": [
    "Q3. What errors are defined in the ArithmeticError class? Explain any two with an example."
   ]
  },
  {
   "cell_type": "markdown",
   "id": "676a6545-c6d7-44a5-a3a7-fc9b434ff010",
   "metadata": {},
   "source": [
    "Here are all the errors defined in the ArithmeticError class:\n",
    "\n",
    "1. ArithmeticError: This is the base class for all arithmetic errors in Python.\n",
    "2. FloatingPointError: This exception is raised when a floating-point operation fails to produce a valid result.\n",
    "3. OverflowError: This exception is raised when the result of an arithmetic operation is too large to be represented as a standard Python integer.\n",
    "4. ZeroDivisionError: This exception is raised when an attempt is made to divide a number by zero.\n",
    "5. UnderflowError: This exception is raised when the result of an arithmetic operation is too small to be represented as a standard Python float or complex number.\n",
    "6. TimeoutError: This exception is raised when an operation times out before it can be completed. This exception is used primarily in network programming, where it is common for operations to time out if they take too long to complete."
   ]
  },
  {
   "cell_type": "code",
   "execution_count": 6,
   "id": "0e1c7019-6c76-4b8c-9612-2c785e602111",
   "metadata": {},
   "outputs": [
    {
     "name": "stdout",
     "output_type": "stream",
     "text": [
      "Error: division by zero\n"
     ]
    }
   ],
   "source": [
    "a = 10\n",
    "b = 0\n",
    "\n",
    "try:\n",
    "    c = a / b\n",
    "except ZeroDivisionError:\n",
    "    print(\"Error: division by zero\")\n"
   ]
  },
  {
   "cell_type": "code",
   "execution_count": 10,
   "id": "1b3e3335-6d51-4828-af70-b94ea476c6e4",
   "metadata": {},
   "outputs": [
    {
     "name": "stdout",
     "output_type": "stream",
     "text": [
      "(34, 'Result too large'), <class 'OverflowError'>\n"
     ]
    }
   ],
   "source": [
    "j = 5.0\n",
    "\n",
    "try:\n",
    "    for i in range(1, 1000):\n",
    "        j = j**i\n",
    "except ArithmeticError as e:\n",
    "    print(f\"{e}, {e.__class__}\")"
   ]
  },
  {
   "cell_type": "markdown",
   "id": "a22f3aca-0d07-431f-937b-6cfc749b5d53",
   "metadata": {},
   "source": [
    "Q4. Why LookupError class is used? Explain with an example KeyError and IndexError."
   ]
  },
  {
   "cell_type": "markdown",
   "id": "5ee81e7b-1c6c-4483-a909-adb6117f9cbe",
   "metadata": {},
   "source": [
    "The LookupError class is used to handle errors that occur when trying to access an invalid index or key in a sequence or mapping object. This class is a base class for several more specific exception classes that are used to handle different types of lookup errors. By catching these exceptions in our code, we can write programs that are more robust and less prone to crashing or producing incorrect results when errors occur.\n",
    "\n",
    "IndexError: This exception is raised when trying to access an index that is out of range for a list or other sequence object.\n",
    "\n",
    "KeyError: This exception is raised when trying to access a key that does not exist in a dictionary or other mapping object.\n",
    "\n",
    "ValueError: This exception is raised when trying to convert a value to a different type, but the value is not valid for the target type.\n",
    "\n",
    "NameError: This exception is raised when trying to access a name that does not exist in the current namespace.\n",
    "\n",
    "UnboundLocalError: This exception is raised when trying to access a local variable that has not been assigned a value.\n",
    "\n",
    "ImportError: This exception is raised when trying to import a module that does not exist or cannot be found.\n",
    "\n",
    "ModuleNotFoundError: This exception is raised when trying to import a module that does not exist or cannot be found.\n",
    "\n",
    "AttributeError: This exception is raised when trying to access an attribute that does not exist on an object"
   ]
  },
  {
   "cell_type": "code",
   "execution_count": 11,
   "id": "c72f48d3-84a8-4834-b7ce-a3e6518b9473",
   "metadata": {},
   "outputs": [
    {
     "name": "stdout",
     "output_type": "stream",
     "text": [
      "<class 'IndexError'>\n"
     ]
    }
   ],
   "source": [
    "l = [1,2,3,4,5,6,7,8,90,10]\n",
    "try:\n",
    "    print(l[50])\n",
    "except IndexError as e:\n",
    "    print(e.__class__)"
   ]
  },
  {
   "cell_type": "code",
   "execution_count": 18,
   "id": "cc449058-f3cd-4ab5-96e5-e0e29a9e7f96",
   "metadata": {},
   "outputs": [
    {
     "name": "stdout",
     "output_type": "stream",
     "text": [
      "<class 'KeyError'>\n"
     ]
    }
   ],
   "source": [
    "d = {'a':1, 'b':2, 'c':3}\n",
    "try:\n",
    "    print(d['z'])\n",
    "except KeyError as e:\n",
    "    print(e.__class__)"
   ]
  },
  {
   "cell_type": "markdown",
   "id": "f0c1a233-55eb-489b-8c7f-d22642ac45b9",
   "metadata": {},
   "source": [
    "Q5. Explain ImportError. What is ModuleNotFoundError?"
   ]
  },
  {
   "cell_type": "markdown",
   "id": "cb269ac9-a9c0-4cae-be18-71a9070b265e",
   "metadata": {},
   "source": [
    "ImportError is an exception that is raised when a module, package or a specific name in a module or package cannot be imported. This error can occur for a variety of reasons, such as when the module or package does not exist, when the module or package is not in the search path or when the module or package contains syntax errors or import errors."
   ]
  },
  {
   "cell_type": "code",
   "execution_count": null,
   "id": "0e50a188-7e26-4e7e-b781-04e5f5812a96",
   "metadata": {},
   "outputs": [],
   "source": []
  },
  {
   "cell_type": "markdown",
   "id": "18305522-c54d-4f42-a610-e468cba8fc71",
   "metadata": {},
   "source": [
    "Q6. List down some best practices for exception handling in python."
   ]
  },
  {
   "cell_type": "markdown",
   "id": "d8a44adb-12ab-4781-9f74-7a4a77c79cb5",
   "metadata": {},
   "source": [
    "1. Always use a specific exception\n",
    "2. Always print a valid message\n",
    "3. Always try to log\n",
    "4. Always avoid to write a multiple exception handling\n",
    "5. Prepare a proper documentation\n",
    "6. Cleanup all the resources"
   ]
  },
  {
   "cell_type": "code",
   "execution_count": null,
   "id": "3a1d97cb-fecb-40d6-ada9-ff60e074f93f",
   "metadata": {},
   "outputs": [],
   "source": []
  }
 ],
 "metadata": {
  "kernelspec": {
   "display_name": "Python 3 (ipykernel)",
   "language": "python",
   "name": "python3"
  },
  "language_info": {
   "codemirror_mode": {
    "name": "ipython",
    "version": 3
   },
   "file_extension": ".py",
   "mimetype": "text/x-python",
   "name": "python",
   "nbconvert_exporter": "python",
   "pygments_lexer": "ipython3",
   "version": "3.9.13"
  }
 },
 "nbformat": 4,
 "nbformat_minor": 5
}
